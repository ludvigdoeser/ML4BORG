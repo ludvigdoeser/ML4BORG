{
 "cells": [
  {
   "cell_type": "code",
   "execution_count": 1,
   "metadata": {
    "collapsed": true,
    "pycharm": {
     "name": "#%%\n"
    }
   },
   "outputs": [
    {
     "name": "stdout",
     "output_type": "stream",
     "text": [
      "Initializing console.\n",
      "[INFO   ] libLSS version ed62e01f04bce073170912a9ab130cd24e37b89e built-in modules \n",
      "[INFO S ] Registered forward models:\n",
      "[INFO S ]    2LPT_CIC, 2LPT_CIC_OPENMP, 2LPT_DOUBLE, 2LPT_NGP, ALTAIR_AP, Downgrade\n",
      "[INFO S ]    EnforceMass, HADES_LOG, HADES_PT, Haar, LPT_CIC, LPT_CIC_OPENMP, LPT_DOUBLE\n",
      "[INFO S ]    LPT_NGP, LPT_NU_CIC, LPT_NU_CIC_OPENMP, PATCH_MODEL, PM_CIC, PM_CIC_OPENMP\n",
      "[INFO S ]    PM_CIC_OPENMP2, PRIMORDIAL, PRIMORDIAL_AS, PRIMORDIAL_FNL, QLPT, QLPT_RSD\n",
      "[INFO S ]    Softplus, TRANSFER_CLASS, TRANSFER_EHU, Transfer, Upgrade, bias::BrokenPowerLaw\n",
      "[INFO S ]    bias::DoubleBrokenPowerLaw, bias::EFT, bias::EFT_Thresh, bias::Linear\n",
      "[INFO S ]    bias::ManyPower_1^1, bias::ManyPower_1^2, bias::ManyPower_1^4, bias::ManyPower_2^2\n",
      "[INFO S ]    bias::Noop, bias::PowerLaw\n",
      "[INFO S ] Registered forward models (v3):\n",
      "[INFO S ]    KappaSphere\n",
      "[INFO S ] Registered likelihoods:\n",
      "[INFO S ]    BORG_NULL, BORG_POISSON, BORG_REDUCED_SHEAR, BORG_SHEAR, BORG_STUDENT_T\n",
      "[INFO S ]    EFT_BIAS_LIKE, EFT_BIAS_MARG_LIKE, GAUSSIAN_BROKEN_POWER_LAW_BIAS, GAUSSIAN_LINEAR_BIAS\n",
      "[INFO S ]    GAUSSIAN_MO_WHITE_BIAS, GAUSSIAN_POWER_LAW_BIAS, GENERIC_GAUSSIAN_MANY_POWER_1^1\n",
      "[INFO S ]    GENERIC_GAUSSIAN_MANY_POWER_1^2, GENERIC_POISSON_BROKEN_POWERLAW_BIAS\n",
      "[INFO S ]    GENERIC_POISSON_BROKEN_POWERLAW_SIGMOID_BIAS, GENERIC_POISSON_MANY_POWER_1^1\n",
      "[INFO S ]    GENERIC_POISSON_MANY_POWER_1^2, GENERIC_POISSON_MANY_POWER_1^2_DEGRADE4\n",
      "[INFO S ]    GENERIC_POISSON_MANY_POWER_2^2, GENERIC_POISSON_MANY_POWER_2^2_DEGRADE4\n",
      "[INFO S ]    GENERIC_POISSON_MO_WHITE_BIAS, GENERIC_POISSON_POWERLAW_BIAS, GENERIC_POISSON_POWERLAW_BIAS_DEGRADE4\n",
      "[INFO S ]    HADES_LINEAR, OCT_LIKELIHOOD, OCT_LIKELIHOOD_MARG, POISSON, ROBUST_POISSON_BROKEN_POWERLAW_BIAS\n",
      "[INFO S ]    ROBUST_POISSON_BROKEN_POWERLAW_SIGMOID_BIAS, ROBUST_POISSON_MANY_POWER_1^1\n",
      "[INFO S ]    ROBUST_POISSON_MANY_POWER_1^2, ROBUST_POISSON_POWERLAW_BIAS\n",
      "[INFO   ] Registering data IO converters\n",
      "[INFO S ] ARES3 base version ed62e01f04bce073170912a9ab130cd24e37b89e\n",
      "[INFO S ] GIT report\n",
      "[INFO S ] - Module: root, Version: ed62e01f04bce073170912a9ab130cd24e37b89e\n",
      "[INFO S ] \u001B[0m\n",
      "[INFO S ] \n",
      "[INFO   ] CPU features: MMX [!AVX] [!AVX2] [!AVX512F] SSE SSE2 SSE3 [!SSE4.1] [!SSE4.2] [!AES] [!BMI] [!BMI2] \n"
     ]
    }
   ],
   "source": [
    "import borg"
   ]
  },
  {
   "cell_type": "code",
   "execution_count": null,
   "outputs": [],
   "source": [
    "import borg\n",
    "import numpy as np\n",
    "import torch\n",
    "import torch.nn as nn"
   ],
   "metadata": {
    "collapsed": false,
    "pycharm": {
     "name": "#%%\n"
    }
   }
  },
  {
   "cell_type": "code",
   "execution_count": null,
   "outputs": [],
   "source": [
    "class Genet(borg.forward.BaseForwardModel):\n",
    "   # Constructor\n",
    "   def __init__(self, box):\n",
    "     super().__init__(box, box)\n",
    "\n",
    "   # IO \"preferences\"\n",
    "   def getPreferredInput(self):\n",
    "     return borg.forward.PREFERRED_REAL\n",
    "\n",
    "   def getPreferredOutput(self):\n",
    "     return borg.forward.PREFERRED_REAL\n",
    "\n",
    "   # Forward part\n",
    "\n",
    "   def forwardModel_v2(self, input_array):\n",
    "     self.save = jax.numpy.array(input_array)\n",
    "\n",
    "   def getDensityFinal(self, output_array):\n",
    "     output_array[:] = self.save**2\n",
    "\n",
    "   # Adjoint part\n",
    "\n",
    "   def adjointModel_v2(self, input_ag):\n",
    "     self.ag = input_ag\n",
    "\n",
    "   def getAdjointModel(self, output_ag):\n",
    "     output_ag[:] = 2 * self.ag * self.save"
   ],
   "metadata": {
    "collapsed": false,
    "pycharm": {
     "name": "#%%\n"
    }
   }
  },
  {
   "cell_type": "code",
   "execution_count": null,
   "outputs": [],
   "source": [
    "global step_id\n",
    "chain = 0\n",
    "\n",
    "# setup the box\n",
    "bb = borg.forward.BoxModel()\n",
    "\n",
    "L = 250\n",
    "Nt = 128\n",
    "\n",
    "bb.L = L,L,L\n",
    "bb.N = Nt,Nt,Nt\n",
    "\n",
    "# Initialize some default cosmology\n",
    "cosmo = borg.cosmo.CosmologicalParameters()\n",
    "\n",
    "# Fiducial scale factor to express initial conditions\n",
    "z_start = 69\n",
    "a0 = 0.001\n",
    "nsteps = 20\n",
    "\n",
    "chain = borg.forward.ChainForwardModel(bb)\n",
    "# Add primordial fluctuations\n",
    "chain.addModel(borg.forward.models.Primordial(bb, a0))\n",
    "# Add E&Hu transfer function\n",
    "chain.addModel(borg.forward.models.EisensteinHu(bb))\n",
    "# Run an LPT model from a=0.0 to af. The ai=a0 is the scale factor at which the IC are expressed\n",
    "#lpt = borg.forward.models.BorgLpt(bb, bb, ai=a0, af=1.0)\n",
    "lpt = borg.forward.models.BorgPM(bb, bb, ai=a0, af=1.0, z_start=z_start, particle_factor=1, force_factor=2, supersampling=1, nsteps=nsteps, tCOLA = 1)\n",
    "chain.addModel(lpt)\n",
    "\n",
    "genet = Genet()\n",
    "chain.addModel(genet)\n",
    "\n",
    "pos_array = np.zeros((nsteps,Nt**3,3))\n",
    "step_id=0\n",
    "def notif(t, Np, ids, poss, vels):\n",
    "    global step_id\n",
    "    print(f\"Step {t} / {step_id}  (Np={Np})\")\n",
    "    pos_array[step_id,:,:] = poss\n",
    "    step_id+=1\n",
    "\n",
    "lpt.setStepNotifier(notif, with_particles=True)\n",
    "\n",
    "# Set the cosmology\n",
    "chain.setCosmoParams(cosmo)\n",
    "\n",
    "# Generate white noise: it has to be scaled by 1/N**(3./2) to be one in Fourier\n",
    "np.random.seed(42)\n",
    "s_field = np.random.normal(0,1,(Nt,Nt,Nt))\n",
    "ic = np.fft.rfftn(s_field/np.sqrt(Nt**3))\n",
    "print('np.std(ic) = ',np.std(ic))\n",
    "#ic = np.fft.rfftn(np.random.randn(Ng, Ng, Ng)/np.sqrt(Ng**3))\n",
    "delta_m = np.zeros((Nt,Nt,Nt))\n",
    "\n",
    "# RUN!\n",
    "chain.forwardModel_v2(ic)\n",
    "chain.getDensityFinal(delta_m)\n",
    "\n",
    "# Get pos\n",
    "abs_pos_COLA = np.zeros((lpt.getNumberOfParticles(),3))\n",
    "lpt.getParticlePositions(abs_pos_COLA)"
   ],
   "metadata": {
    "collapsed": false,
    "pycharm": {
     "name": "#%%\n"
    }
   }
  }
 ],
 "metadata": {
  "kernelspec": {
   "display_name": "Python 3",
   "language": "python",
   "name": "python3"
  },
  "language_info": {
   "codemirror_mode": {
    "name": "ipython",
    "version": 2
   },
   "file_extension": ".py",
   "mimetype": "text/x-python",
   "name": "python",
   "nbconvert_exporter": "python",
   "pygments_lexer": "ipython2",
   "version": "2.7.6"
  }
 },
 "nbformat": 4,
 "nbformat_minor": 0
}