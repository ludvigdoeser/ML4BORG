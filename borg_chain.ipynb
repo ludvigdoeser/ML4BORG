{
 "cells": [
  {
   "cell_type": "code",
   "execution_count": 1,
   "metadata": {
    "collapsed": true,
    "pycharm": {
     "name": "#%%\n"
    }
   },
   "outputs": [
    {
     "name": "stdout",
     "output_type": "stream",
     "text": [
      "Initializing console.\n",
      "[INFO   ] libLSS version ed62e01f04bce073170912a9ab130cd24e37b89e built-in modules \n",
      "[INFO S ] Registered forward models:\n",
      "[INFO S ]    2LPT_CIC, 2LPT_CIC_OPENMP, 2LPT_DOUBLE, 2LPT_NGP, ALTAIR_AP, Downgrade\n",
      "[INFO S ]    EnforceMass, HADES_LOG, HADES_PT, Haar, LPT_CIC, LPT_CIC_OPENMP, LPT_DOUBLE\n",
      "[INFO S ]    LPT_NGP, LPT_NU_CIC, LPT_NU_CIC_OPENMP, PATCH_MODEL, PM_CIC, PM_CIC_OPENMP\n",
      "[INFO S ]    PM_CIC_OPENMP2, PRIMORDIAL, PRIMORDIAL_AS, PRIMORDIAL_FNL, QLPT, QLPT_RSD\n",
      "[INFO S ]    Softplus, TRANSFER_CLASS, TRANSFER_EHU, Transfer, Upgrade, bias::BrokenPowerLaw\n",
      "[INFO S ]    bias::DoubleBrokenPowerLaw, bias::EFT, bias::EFT_Thresh, bias::Linear\n",
      "[INFO S ]    bias::ManyPower_1^1, bias::ManyPower_1^2, bias::ManyPower_1^4, bias::ManyPower_2^2\n",
      "[INFO S ]    bias::Noop, bias::PowerLaw\n",
      "[INFO S ] Registered forward models (v3):\n",
      "[INFO S ]    KappaSphere\n",
      "[INFO S ] Registered likelihoods:\n",
      "[INFO S ]    BORG_NULL, BORG_POISSON, BORG_REDUCED_SHEAR, BORG_SHEAR, BORG_STUDENT_T\n",
      "[INFO S ]    EFT_BIAS_LIKE, EFT_BIAS_MARG_LIKE, GAUSSIAN_BROKEN_POWER_LAW_BIAS, GAUSSIAN_LINEAR_BIAS\n",
      "[INFO S ]    GAUSSIAN_MO_WHITE_BIAS, GAUSSIAN_POWER_LAW_BIAS, GENERIC_GAUSSIAN_MANY_POWER_1^1\n",
      "[INFO S ]    GENERIC_GAUSSIAN_MANY_POWER_1^2, GENERIC_POISSON_BROKEN_POWERLAW_BIAS\n",
      "[INFO S ]    GENERIC_POISSON_BROKEN_POWERLAW_SIGMOID_BIAS, GENERIC_POISSON_MANY_POWER_1^1\n",
      "[INFO S ]    GENERIC_POISSON_MANY_POWER_1^2, GENERIC_POISSON_MANY_POWER_1^2_DEGRADE4\n",
      "[INFO S ]    GENERIC_POISSON_MANY_POWER_2^2, GENERIC_POISSON_MANY_POWER_2^2_DEGRADE4\n",
      "[INFO S ]    GENERIC_POISSON_MO_WHITE_BIAS, GENERIC_POISSON_POWERLAW_BIAS, GENERIC_POISSON_POWERLAW_BIAS_DEGRADE4\n",
      "[INFO S ]    HADES_LINEAR, OCT_LIKELIHOOD, OCT_LIKELIHOOD_MARG, POISSON, ROBUST_POISSON_BROKEN_POWERLAW_BIAS\n",
      "[INFO S ]    ROBUST_POISSON_BROKEN_POWERLAW_SIGMOID_BIAS, ROBUST_POISSON_MANY_POWER_1^1\n",
      "[INFO S ]    ROBUST_POISSON_MANY_POWER_1^2, ROBUST_POISSON_POWERLAW_BIAS\n",
      "[INFO   ] Registering data IO converters\n",
      "[INFO S ] ARES3 base version ed62e01f04bce073170912a9ab130cd24e37b89e\n",
      "[INFO S ] GIT report\n",
      "[INFO S ] - Module: root, Version: ed62e01f04bce073170912a9ab130cd24e37b89e\n",
      "[INFO S ] \u001B[0m\n",
      "[INFO S ] \n",
      "[INFO   ] CPU features: MMX [!AVX] [!AVX2] [!AVX512F] SSE SSE2 SSE3 [!SSE4.1] [!SSE4.2] [!AES] [!BMI] [!BMI2] \n"
     ]
    }
   ],
   "source": [
    "import borg"
   ]
  },
  {
   "cell_type": "code",
   "execution_count": 6,
   "outputs": [],
   "source": [
    "import borg\n",
    "import numpy as np\n"
   ],
   "metadata": {
    "collapsed": false,
    "pycharm": {
     "name": "#%%\n"
    }
   }
  },
  {
   "cell_type": "code",
   "execution_count": null,
   "outputs": [],
   "source": [
    "import tensorflow as tf\n",
    "import keras\n",
    "import torch\n",
    "import torch.nn as nn"
   ],
   "metadata": {
    "collapsed": false,
    "pycharm": {
     "name": "#%%\n"
    }
   }
  },
  {
   "cell_type": "code",
   "execution_count": 1,
   "outputs": [
    {
     "ename": "AssertionError",
     "evalue": "Duplicate registrations for type 'experimentalOptimizer'",
     "output_type": "error",
     "traceback": [
      "\u001B[0;31m---------------------------------------------------------------------------\u001B[0m",
      "\u001B[0;31mAssertionError\u001B[0m                            Traceback (most recent call last)",
      "Input \u001B[0;32mIn [1]\u001B[0m, in \u001B[0;36m<cell line: 1>\u001B[0;34m()\u001B[0m\n\u001B[0;32m----> 1\u001B[0m \u001B[38;5;28;01mfrom\u001B[39;00m \u001B[38;5;21;01mmodel\u001B[39;00m\u001B[38;5;21;01m.\u001B[39;00m\u001B[38;5;21;01mmodel_unet2\u001B[39;00m \u001B[38;5;28;01mimport\u001B[39;00m U_net_3d_2\n\u001B[1;32m      3\u001B[0m width, height, depth \u001B[38;5;241m=\u001B[39m \u001B[38;5;241m64\u001B[39m,\u001B[38;5;241m64\u001B[39m,\u001B[38;5;241m64\u001B[39m\n\u001B[1;32m      4\u001B[0m unet3d \u001B[38;5;241m=\u001B[39m U_net_3d_2(width,height,depth,lr\u001B[38;5;241m=\u001B[39m\u001B[38;5;241m0.01\u001B[39m,input_ch\u001B[38;5;241m=\u001B[39m\u001B[38;5;241m3\u001B[39m)\n",
      "File \u001B[0;32m~/PhD/codes/ML4BORG/model/model_unet2.py:2\u001B[0m, in \u001B[0;36m<module>\u001B[0;34m\u001B[0m\n\u001B[1;32m      1\u001B[0m \u001B[38;5;66;03m#this one bottleneck down to 4^3\u001B[39;00m\n\u001B[0;32m----> 2\u001B[0m \u001B[38;5;28;01mimport\u001B[39;00m \u001B[38;5;21;01mtensorflow\u001B[39;00m \u001B[38;5;28;01mas\u001B[39;00m \u001B[38;5;21;01mtf\u001B[39;00m\n\u001B[1;32m      3\u001B[0m \u001B[38;5;28;01mfrom\u001B[39;00m \u001B[38;5;21;01mtensorflow\u001B[39;00m\u001B[38;5;21;01m.\u001B[39;00m\u001B[38;5;21;01mkeras\u001B[39;00m \u001B[38;5;28;01mimport\u001B[39;00m datasets, layers, models, Model, Input\n\u001B[1;32m      4\u001B[0m \u001B[38;5;28;01mfrom\u001B[39;00m \u001B[38;5;21;01mtensorflow\u001B[39;00m\u001B[38;5;21;01m.\u001B[39;00m\u001B[38;5;21;01mkeras\u001B[39;00m\u001B[38;5;21;01m.\u001B[39;00m\u001B[38;5;21;01mlayers\u001B[39;00m \u001B[38;5;28;01mimport\u001B[39;00m\u001B[38;5;241m*\u001B[39m\n",
      "File \u001B[0;32m~/software/miniconda3/envs/ml4borg/lib/python3.9/site-packages/tensorflow/__init__.py:473\u001B[0m, in \u001B[0;36m<module>\u001B[0;34m\u001B[0m\n\u001B[1;32m    471\u001B[0m \u001B[38;5;28;01mif\u001B[39;00m \u001B[38;5;28mhasattr\u001B[39m(_current_module, \u001B[38;5;124m\"\u001B[39m\u001B[38;5;124mkeras\u001B[39m\u001B[38;5;124m\"\u001B[39m):\n\u001B[1;32m    472\u001B[0m   \u001B[38;5;28;01mtry\u001B[39;00m:\n\u001B[0;32m--> 473\u001B[0m     \u001B[43mkeras\u001B[49m\u001B[38;5;241;43m.\u001B[39;49m\u001B[43m_load\u001B[49m\u001B[43m(\u001B[49m\u001B[43m)\u001B[49m\n\u001B[1;32m    474\u001B[0m   \u001B[38;5;28;01mexcept\u001B[39;00m \u001B[38;5;167;01mImportError\u001B[39;00m:\n\u001B[1;32m    475\u001B[0m     \u001B[38;5;28;01mpass\u001B[39;00m\n",
      "File \u001B[0;32m~/software/miniconda3/envs/ml4borg/lib/python3.9/site-packages/tensorflow/python/util/lazy_loader.py:41\u001B[0m, in \u001B[0;36mLazyLoader._load\u001B[0;34m(self)\u001B[0m\n\u001B[1;32m     39\u001B[0m \u001B[38;5;124;03m\"\"\"Load the module and insert it into the parent's globals.\"\"\"\u001B[39;00m\n\u001B[1;32m     40\u001B[0m \u001B[38;5;66;03m# Import the target module and insert it into the parent's namespace\u001B[39;00m\n\u001B[0;32m---> 41\u001B[0m module \u001B[38;5;241m=\u001B[39m \u001B[43mimportlib\u001B[49m\u001B[38;5;241;43m.\u001B[39;49m\u001B[43mimport_module\u001B[49m\u001B[43m(\u001B[49m\u001B[38;5;28;43mself\u001B[39;49m\u001B[38;5;241;43m.\u001B[39;49m\u001B[38;5;18;43m__name__\u001B[39;49m\u001B[43m)\u001B[49m\n\u001B[1;32m     42\u001B[0m \u001B[38;5;28mself\u001B[39m\u001B[38;5;241m.\u001B[39m_parent_module_globals[\u001B[38;5;28mself\u001B[39m\u001B[38;5;241m.\u001B[39m_local_name] \u001B[38;5;241m=\u001B[39m module\n\u001B[1;32m     44\u001B[0m \u001B[38;5;66;03m# Emit a warning if one was specified\u001B[39;00m\n",
      "File \u001B[0;32m~/software/miniconda3/envs/ml4borg/lib/python3.9/importlib/__init__.py:127\u001B[0m, in \u001B[0;36mimport_module\u001B[0;34m(name, package)\u001B[0m\n\u001B[1;32m    125\u001B[0m             \u001B[38;5;28;01mbreak\u001B[39;00m\n\u001B[1;32m    126\u001B[0m         level \u001B[38;5;241m+\u001B[39m\u001B[38;5;241m=\u001B[39m \u001B[38;5;241m1\u001B[39m\n\u001B[0;32m--> 127\u001B[0m \u001B[38;5;28;01mreturn\u001B[39;00m \u001B[43m_bootstrap\u001B[49m\u001B[38;5;241;43m.\u001B[39;49m\u001B[43m_gcd_import\u001B[49m\u001B[43m(\u001B[49m\u001B[43mname\u001B[49m\u001B[43m[\u001B[49m\u001B[43mlevel\u001B[49m\u001B[43m:\u001B[49m\u001B[43m]\u001B[49m\u001B[43m,\u001B[49m\u001B[43m \u001B[49m\u001B[43mpackage\u001B[49m\u001B[43m,\u001B[49m\u001B[43m \u001B[49m\u001B[43mlevel\u001B[49m\u001B[43m)\u001B[49m\n",
      "File \u001B[0;32m~/software/miniconda3/envs/ml4borg/lib/python3.9/site-packages/keras/__init__.py:25\u001B[0m, in \u001B[0;36m<module>\u001B[0;34m\u001B[0m\n\u001B[1;32m     22\u001B[0m \u001B[38;5;28;01mfrom\u001B[39;00m \u001B[38;5;21;01mkeras\u001B[39;00m \u001B[38;5;28;01mimport\u001B[39;00m distribute\n\u001B[1;32m     24\u001B[0m \u001B[38;5;66;03m# See b/110718070#comment18 for more details about this import.\u001B[39;00m\n\u001B[0;32m---> 25\u001B[0m \u001B[38;5;28;01mfrom\u001B[39;00m \u001B[38;5;21;01mkeras\u001B[39;00m \u001B[38;5;28;01mimport\u001B[39;00m models\n\u001B[1;32m     27\u001B[0m \u001B[38;5;28;01mfrom\u001B[39;00m \u001B[38;5;21;01mkeras\u001B[39;00m\u001B[38;5;21;01m.\u001B[39;00m\u001B[38;5;21;01mengine\u001B[39;00m\u001B[38;5;21;01m.\u001B[39;00m\u001B[38;5;21;01minput_layer\u001B[39;00m \u001B[38;5;28;01mimport\u001B[39;00m Input\n\u001B[1;32m     28\u001B[0m \u001B[38;5;28;01mfrom\u001B[39;00m \u001B[38;5;21;01mkeras\u001B[39;00m\u001B[38;5;21;01m.\u001B[39;00m\u001B[38;5;21;01mengine\u001B[39;00m\u001B[38;5;21;01m.\u001B[39;00m\u001B[38;5;21;01msequential\u001B[39;00m \u001B[38;5;28;01mimport\u001B[39;00m Sequential\n",
      "File \u001B[0;32m~/software/miniconda3/envs/ml4borg/lib/python3.9/site-packages/keras/models/__init__.py:18\u001B[0m, in \u001B[0;36m<module>\u001B[0;34m\u001B[0m\n\u001B[1;32m     15\u001B[0m \u001B[38;5;124;03m\"\"\"Keras models API.\"\"\"\u001B[39;00m\n\u001B[1;32m     16\u001B[0m \u001B[38;5;66;03m# pylint: disable=g-bad-import-order\u001B[39;00m\n\u001B[0;32m---> 18\u001B[0m \u001B[38;5;28;01mfrom\u001B[39;00m \u001B[38;5;21;01mkeras\u001B[39;00m\u001B[38;5;21;01m.\u001B[39;00m\u001B[38;5;21;01mengine\u001B[39;00m\u001B[38;5;21;01m.\u001B[39;00m\u001B[38;5;21;01mfunctional\u001B[39;00m \u001B[38;5;28;01mimport\u001B[39;00m Functional\n\u001B[1;32m     19\u001B[0m \u001B[38;5;28;01mfrom\u001B[39;00m \u001B[38;5;21;01mkeras\u001B[39;00m\u001B[38;5;21;01m.\u001B[39;00m\u001B[38;5;21;01mengine\u001B[39;00m\u001B[38;5;21;01m.\u001B[39;00m\u001B[38;5;21;01msequential\u001B[39;00m \u001B[38;5;28;01mimport\u001B[39;00m Sequential\n\u001B[1;32m     20\u001B[0m \u001B[38;5;28;01mfrom\u001B[39;00m \u001B[38;5;21;01mkeras\u001B[39;00m\u001B[38;5;21;01m.\u001B[39;00m\u001B[38;5;21;01mengine\u001B[39;00m\u001B[38;5;21;01m.\u001B[39;00m\u001B[38;5;21;01mtraining\u001B[39;00m \u001B[38;5;28;01mimport\u001B[39;00m Model\n",
      "File \u001B[0;32m~/software/miniconda3/envs/ml4borg/lib/python3.9/site-packages/keras/engine/functional.py:25\u001B[0m, in \u001B[0;36m<module>\u001B[0;34m\u001B[0m\n\u001B[1;32m     23\u001B[0m \u001B[38;5;28;01mimport\u001B[39;00m \u001B[38;5;21;01mwarnings\u001B[39;00m\n\u001B[1;32m     24\u001B[0m \u001B[38;5;28;01mfrom\u001B[39;00m \u001B[38;5;21;01mkeras\u001B[39;00m \u001B[38;5;28;01mimport\u001B[39;00m backend\n\u001B[0;32m---> 25\u001B[0m \u001B[38;5;28;01mfrom\u001B[39;00m \u001B[38;5;21;01mkeras\u001B[39;00m\u001B[38;5;21;01m.\u001B[39;00m\u001B[38;5;21;01mengine\u001B[39;00m \u001B[38;5;28;01mimport\u001B[39;00m base_layer\n\u001B[1;32m     26\u001B[0m \u001B[38;5;28;01mfrom\u001B[39;00m \u001B[38;5;21;01mkeras\u001B[39;00m\u001B[38;5;21;01m.\u001B[39;00m\u001B[38;5;21;01mengine\u001B[39;00m \u001B[38;5;28;01mimport\u001B[39;00m base_layer_utils\n\u001B[1;32m     27\u001B[0m \u001B[38;5;28;01mfrom\u001B[39;00m \u001B[38;5;21;01mkeras\u001B[39;00m\u001B[38;5;21;01m.\u001B[39;00m\u001B[38;5;21;01mengine\u001B[39;00m \u001B[38;5;28;01mimport\u001B[39;00m functional_utils\n",
      "File \u001B[0;32m~/software/miniconda3/envs/ml4borg/lib/python3.9/site-packages/keras/engine/base_layer.py:43\u001B[0m, in \u001B[0;36m<module>\u001B[0;34m\u001B[0m\n\u001B[1;32m     41\u001B[0m \u001B[38;5;28;01mfrom\u001B[39;00m \u001B[38;5;21;01mkeras\u001B[39;00m\u001B[38;5;21;01m.\u001B[39;00m\u001B[38;5;21;01mengine\u001B[39;00m \u001B[38;5;28;01mimport\u001B[39;00m node \u001B[38;5;28;01mas\u001B[39;00m node_module\n\u001B[1;32m     42\u001B[0m \u001B[38;5;28;01mfrom\u001B[39;00m \u001B[38;5;21;01mkeras\u001B[39;00m\u001B[38;5;21;01m.\u001B[39;00m\u001B[38;5;21;01mmixed_precision\u001B[39;00m \u001B[38;5;28;01mimport\u001B[39;00m autocast_variable\n\u001B[0;32m---> 43\u001B[0m \u001B[38;5;28;01mfrom\u001B[39;00m \u001B[38;5;21;01mkeras\u001B[39;00m\u001B[38;5;21;01m.\u001B[39;00m\u001B[38;5;21;01mmixed_precision\u001B[39;00m \u001B[38;5;28;01mimport\u001B[39;00m loss_scale_optimizer\n\u001B[1;32m     44\u001B[0m \u001B[38;5;28;01mfrom\u001B[39;00m \u001B[38;5;21;01mkeras\u001B[39;00m\u001B[38;5;21;01m.\u001B[39;00m\u001B[38;5;21;01mmixed_precision\u001B[39;00m \u001B[38;5;28;01mimport\u001B[39;00m policy\n\u001B[1;32m     45\u001B[0m \u001B[38;5;28;01mfrom\u001B[39;00m \u001B[38;5;21;01mkeras\u001B[39;00m\u001B[38;5;21;01m.\u001B[39;00m\u001B[38;5;21;01msaving\u001B[39;00m\u001B[38;5;21;01m.\u001B[39;00m\u001B[38;5;21;01msaved_model\u001B[39;00m \u001B[38;5;28;01mimport\u001B[39;00m layer_serialization\n",
      "File \u001B[0;32m~/software/miniconda3/envs/ml4borg/lib/python3.9/site-packages/keras/mixed_precision/loss_scale_optimizer.py:20\u001B[0m, in \u001B[0;36m<module>\u001B[0;34m\u001B[0m\n\u001B[1;32m     18\u001B[0m \u001B[38;5;28;01mfrom\u001B[39;00m \u001B[38;5;21;01mkeras\u001B[39;00m \u001B[38;5;28;01mimport\u001B[39;00m optimizers\n\u001B[1;32m     19\u001B[0m \u001B[38;5;28;01mfrom\u001B[39;00m \u001B[38;5;21;01mkeras\u001B[39;00m\u001B[38;5;21;01m.\u001B[39;00m\u001B[38;5;21;01mmixed_precision\u001B[39;00m \u001B[38;5;28;01mimport\u001B[39;00m loss_scale \u001B[38;5;28;01mas\u001B[39;00m keras_loss_scale_module\n\u001B[0;32m---> 20\u001B[0m \u001B[38;5;28;01mfrom\u001B[39;00m \u001B[38;5;21;01mkeras\u001B[39;00m\u001B[38;5;21;01m.\u001B[39;00m\u001B[38;5;21;01moptimizer_experimental\u001B[39;00m \u001B[38;5;28;01mimport\u001B[39;00m optimizer \u001B[38;5;28;01mas\u001B[39;00m optimizer_experimental\n\u001B[1;32m     21\u001B[0m \u001B[38;5;28;01mfrom\u001B[39;00m \u001B[38;5;21;01mkeras\u001B[39;00m\u001B[38;5;21;01m.\u001B[39;00m\u001B[38;5;21;01moptimizer_v2\u001B[39;00m \u001B[38;5;28;01mimport\u001B[39;00m optimizer_v2\n\u001B[1;32m     22\u001B[0m \u001B[38;5;28;01mfrom\u001B[39;00m \u001B[38;5;21;01mkeras\u001B[39;00m\u001B[38;5;21;01m.\u001B[39;00m\u001B[38;5;21;01moptimizer_v2\u001B[39;00m \u001B[38;5;28;01mimport\u001B[39;00m utils \u001B[38;5;28;01mas\u001B[39;00m optimizer_utils\n",
      "File \u001B[0;32m~/software/miniconda3/envs/ml4borg/lib/python3.9/site-packages/keras/optimizer_experimental/optimizer.py:649\u001B[0m, in \u001B[0;36m<module>\u001B[0;34m\u001B[0m\n\u001B[1;32m    642\u001B[0m     \u001B[38;5;28;01mraise\u001B[39;00m \u001B[38;5;167;01mNotImplementedError\u001B[39;00m(\n\u001B[1;32m    643\u001B[0m         \u001B[38;5;124m\"\u001B[39m\u001B[38;5;124mRestoring functional Optimizers from SavedModels is not currently \u001B[39m\u001B[38;5;124m\"\u001B[39m\n\u001B[1;32m    644\u001B[0m         \u001B[38;5;124m\"\u001B[39m\u001B[38;5;124msupported. Please file a feature request if this limitation bothers \u001B[39m\u001B[38;5;124m\"\u001B[39m\n\u001B[1;32m    645\u001B[0m         \u001B[38;5;124m\"\u001B[39m\u001B[38;5;124myou.\u001B[39m\u001B[38;5;124m\"\u001B[39m)\n\u001B[1;32m    648\u001B[0m \u001B[38;5;66;03m# Register the optimizer for loading from saved_model purpose.\u001B[39;00m\n\u001B[0;32m--> 649\u001B[0m \u001B[43mtf\u001B[49m\u001B[38;5;241;43m.\u001B[39;49m\u001B[43m__internal__\u001B[49m\u001B[38;5;241;43m.\u001B[39;49m\u001B[43msaved_model\u001B[49m\u001B[38;5;241;43m.\u001B[39;49m\u001B[43mload\u001B[49m\u001B[38;5;241;43m.\u001B[39;49m\u001B[43mregister_revived_type\u001B[49m\u001B[43m(\u001B[49m\n\u001B[1;32m    650\u001B[0m \u001B[43m    \u001B[49m\u001B[38;5;124;43m\"\u001B[39;49m\u001B[38;5;124;43mexperimentalOptimizer\u001B[39;49m\u001B[38;5;124;43m\"\u001B[39;49m\u001B[43m,\u001B[49m\n\u001B[1;32m    651\u001B[0m \u001B[43m    \u001B[49m\u001B[38;5;28;43;01mlambda\u001B[39;49;00m\u001B[43m \u001B[49m\u001B[43mobj\u001B[49m\u001B[43m:\u001B[49m\u001B[43m \u001B[49m\u001B[38;5;28;43misinstance\u001B[39;49m\u001B[43m(\u001B[49m\u001B[43mobj\u001B[49m\u001B[43m,\u001B[49m\u001B[43m \u001B[49m\u001B[43mOptimizer\u001B[49m\u001B[43m)\u001B[49m\u001B[43m,\u001B[49m\n\u001B[1;32m    652\u001B[0m \u001B[43m    \u001B[49m\u001B[43mversions\u001B[49m\u001B[38;5;241;43m=\u001B[39;49m\u001B[43m[\u001B[49m\n\u001B[1;32m    653\u001B[0m \u001B[43m        \u001B[49m\u001B[43mtf\u001B[49m\u001B[38;5;241;43m.\u001B[39;49m\u001B[43m__internal__\u001B[49m\u001B[38;5;241;43m.\u001B[39;49m\u001B[43msaved_model\u001B[49m\u001B[38;5;241;43m.\u001B[39;49m\u001B[43mload\u001B[49m\u001B[38;5;241;43m.\u001B[39;49m\u001B[43mVersionedTypeRegistration\u001B[49m\u001B[43m(\u001B[49m\n\u001B[1;32m    654\u001B[0m \u001B[43m            \u001B[49m\u001B[43mobject_factory\u001B[49m\u001B[38;5;241;43m=\u001B[39;49m\u001B[38;5;28;43;01mlambda\u001B[39;49;00m\u001B[43m \u001B[49m\u001B[43mproto\u001B[49m\u001B[43m:\u001B[49m\u001B[43m \u001B[49m\u001B[43mRestoredOptimizer\u001B[49m\u001B[43m(\u001B[49m\u001B[43m)\u001B[49m\u001B[43m,\u001B[49m\n\u001B[1;32m    655\u001B[0m \u001B[43m            \u001B[49m\u001B[43mversion\u001B[49m\u001B[38;5;241;43m=\u001B[39;49m\u001B[38;5;241;43m2\u001B[39;49m\u001B[43m,\u001B[49m\n\u001B[1;32m    656\u001B[0m \u001B[43m            \u001B[49m\u001B[43mmin_producer_version\u001B[49m\u001B[38;5;241;43m=\u001B[39;49m\u001B[38;5;241;43m1\u001B[39;49m\u001B[43m,\u001B[49m\n\u001B[1;32m    657\u001B[0m \u001B[43m            \u001B[49m\u001B[43mmin_consumer_version\u001B[49m\u001B[38;5;241;43m=\u001B[39;49m\u001B[38;5;241;43m1\u001B[39;49m\u001B[43m)\u001B[49m\n\u001B[1;32m    658\u001B[0m \u001B[43m    \u001B[49m\u001B[43m]\u001B[49m\u001B[43m)\u001B[49m\n",
      "File \u001B[0;32m~/software/miniconda3/envs/ml4borg/lib/python3.9/site-packages/tensorflow/python/saved_model/revived_types.py:133\u001B[0m, in \u001B[0;36mregister_revived_type\u001B[0;34m(identifier, predicate, versions)\u001B[0m\n\u001B[1;32m    130\u001B[0m   version_numbers\u001B[38;5;241m.\u001B[39madd(registration\u001B[38;5;241m.\u001B[39mversion)\n\u001B[1;32m    132\u001B[0m \u001B[38;5;28;01mif\u001B[39;00m identifier \u001B[38;5;129;01min\u001B[39;00m _REVIVED_TYPE_REGISTRY:\n\u001B[0;32m--> 133\u001B[0m   \u001B[38;5;28;01mraise\u001B[39;00m \u001B[38;5;167;01mAssertionError\u001B[39;00m(\u001B[38;5;124mf\u001B[39m\u001B[38;5;124m\"\u001B[39m\u001B[38;5;124mDuplicate registrations for type \u001B[39m\u001B[38;5;124m'\u001B[39m\u001B[38;5;132;01m{\u001B[39;00midentifier\u001B[38;5;132;01m}\u001B[39;00m\u001B[38;5;124m'\u001B[39m\u001B[38;5;124m\"\u001B[39m)\n\u001B[1;32m    135\u001B[0m _REVIVED_TYPE_REGISTRY[identifier] \u001B[38;5;241m=\u001B[39m (predicate, versions)\n\u001B[1;32m    136\u001B[0m _TYPE_IDENTIFIERS\u001B[38;5;241m.\u001B[39mappend(identifier)\n",
      "\u001B[0;31mAssertionError\u001B[0m: Duplicate registrations for type 'experimentalOptimizer'"
     ]
    }
   ],
   "source": [
    "from model.model_unet2 import U_net_3d_2\n",
    "\n",
    "width, height, depth = 64,64,64\n",
    "unet3d = U_net_3d_2(width,height,depth,lr=0.01,input_ch=3)\n",
    "unet3d.load_weights('data/model_UNET4BORG.h5')"
   ],
   "metadata": {
    "collapsed": false,
    "pycharm": {
     "name": "#%%\n"
    }
   }
  },
  {
   "cell_type": "code",
   "execution_count": 5,
   "outputs": [],
   "source": [
    "class Genet(borg.forward.BaseForwardModel):\n",
    "   # Constructor\n",
    "   def __init__(self, box):\n",
    "     super().__init__(box, box)\n",
    "\n",
    "   # IO \"preferences\"\n",
    "   def getPreferredInput(self):\n",
    "     return borg.forward.PREFERRED_REAL\n",
    "\n",
    "   def getPreferredOutput(self):\n",
    "     return borg.forward.PREFERRED_REAL\n",
    "\n",
    "   # Forward part\n",
    "\n",
    "   def forwardModel_v2(self, input_array):\n",
    "     # TODO: take displacement field and apply NN and save\n",
    "     print(input_array.shape())\n",
    "     self.save = np.array(input_array)\n",
    "\n",
    "   def getDensityFinal(self, output_array):\n",
    "     output_array[:] = self.save**2\n",
    "\n",
    "   # Adjoint part\n",
    "\n",
    "   def adjointModel_v2(self, input_ag):\n",
    "     self.ag = input_ag\n",
    "\n",
    "   def getAdjointModel(self, output_ag):\n",
    "     output_ag[:] = 2 * self.ag * self.save"
   ],
   "metadata": {
    "collapsed": false,
    "pycharm": {
     "name": "#%%\n"
    }
   }
  },
  {
   "cell_type": "code",
   "execution_count": 8,
   "outputs": [
    {
     "name": "stderr",
     "output_type": "stream",
     "text": [
      "/tmp/ipykernel_45480/3941234787.py:25: DeprecationWarning: Call to deprecated class EisensteinHu. (The tailored developed are being deprecated in favor of the automatically generated bindings in model_lib)\n",
      "  chain.addModel(borg.forward.models.EisensteinHu(bb))\n",
      "/tmp/ipykernel_45480/3941234787.py:28: DeprecationWarning: Call to deprecated class BorgPM. (The tailored developed are being deprecated in favor of the automatically generated bindings in model_lib)\n",
      "  lpt = borg.forward.models.BorgPM(bb, bb, ai=a0, af=1.0, z_start=z_start, particle_factor=1, force_factor=2, supersampling=1, nsteps=nsteps, tCOLA = 1)\n"
     ]
    },
    {
     "name": "stdout",
     "output_type": "stream",
     "text": [
      "[INFO S ] Entering [/build/jenkins/miniconda3/envs/builder/conda-bld/aquila_borg_1652896069462/work/libLSS/physics/forwards/pm/steps/types.hpp]void LibLSS::PM::init_mgr(std::shared_ptr<LibLSS::MPI_Communication>, LibLSS::PM::PMGrid&, bool)\n",
      "[INFO S ] | Allocating grid 128x128x128 (transposed=0)\n",
      "[INFO S ] Done\n",
      "[INFO S ] Entering [/build/jenkins/miniconda3/envs/builder/conda-bld/aquila_borg_1652896069462/work/libLSS/physics/forwards/pm/steps/types.hpp]void LibLSS::PM::init_mgr(std::shared_ptr<LibLSS::MPI_Communication>, LibLSS::PM::PMGrid&, bool)\n",
      "[INFO S ] | Allocating grid 128x128x128 (transposed=0)\n",
      "[INFO S ] Done\n",
      "[INFO S ] Entering [/build/jenkins/miniconda3/envs/builder/conda-bld/aquila_borg_1652896069462/work/libLSS/physics/forwards/pm/steps/types.hpp]void LibLSS::PM::init_mgr(std::shared_ptr<LibLSS::MPI_Communication>, LibLSS::PM::PMGrid&, bool)\n",
      "[INFO S ] | Allocating grid 256x256x256 (transposed=1)\n",
      "[INFO S ] Done\n",
      "[INFO S ] | | |  [step] an0=0.0402256 an1=0.0921053 anh0=0.0142857 anh1=0.0661654 dDv=9.10077 dDv_ref=9.10077\n",
      "[INFO S ] | | |  [step] an0=0.0402256 an1=0.0921053 anh0=0.0142857 anh1=0.0661654 dDv=9.10077 dDv_ref=9.10077\n",
      "[INFO S ] | | |  [step] an0=0.0921053 an1=0.143985 anh0=0.0661654 anh1=0.118045 dDv=13.052 dDv_ref=13.052\n",
      "[INFO S ] | | |  [step] an0=0.143985 an1=0.195865 anh0=0.118045 anh1=0.169925 dDv=16.1626 dDv_ref=16.1626\n",
      "[INFO S ] | | |  [step] an0=0.195865 an1=0.247744 anh0=0.169925 anh1=0.221805 dDv=18.6813 dDv_ref=18.6813\n",
      "[INFO S ] | | |  [step] an0=0.247744 an1=0.299624 anh0=0.221805 anh1=0.273684 dDv=20.7434 dDv_ref=20.7434\n",
      "[INFO S ] | | |  [step] an0=0.299624 an1=0.351504 anh0=0.273684 anh1=0.325564 dDv=22.4001 dDv_ref=22.4001\n",
      "[INFO S ] | | |  [step] an0=0.351504 an1=0.403383 anh0=0.325564 anh1=0.377444 dDv=23.6706 dDv_ref=23.6706\n",
      "[INFO S ] | | |  [step] an0=0.403383 an1=0.455263 anh0=0.377444 anh1=0.429323 dDv=24.5652 dDv_ref=24.5652\n",
      "[INFO S ] | | |  [step] an0=0.455263 an1=0.507143 anh0=0.429323 anh1=0.481203 dDv=25.0984 dDv_ref=25.0984\n",
      "[INFO S ] | | |  [step] an0=0.507143 an1=0.559023 anh0=0.481203 anh1=0.533083 dDv=25.2938 dDv_ref=25.2938\n",
      "[INFO S ] | | |  [step] an0=0.559023 an1=0.610902 anh0=0.533083 anh1=0.584962 dDv=25.1857 dDv_ref=25.1857\n",
      "[INFO S ] | | |  [step] an0=0.610902 an1=0.662782 anh0=0.584962 anh1=0.636842 dDv=24.8167 dDv_ref=24.8167\n",
      "[INFO S ] | | |  [step] an0=0.662782 an1=0.714662 anh0=0.636842 anh1=0.688722 dDv=24.2346 dDv_ref=24.2346\n",
      "[INFO S ] | | |  [step] an0=0.714662 an1=0.766541 anh0=0.688722 anh1=0.740602 dDv=23.4876 dDv_ref=23.4876\n",
      "[INFO S ] | | |  [step] an0=0.766541 an1=0.818421 anh0=0.740602 anh1=0.792481 dDv=22.6216 dDv_ref=22.6216\n",
      "[INFO S ] | | |  [step] an0=0.818421 an1=0.870301 anh0=0.792481 anh1=0.844361 dDv=21.6773 dDv_ref=21.6773\n",
      "[INFO S ] | | |  [step] an0=0.870301 an1=0.92218 anh0=0.844361 anh1=0.896241 dDv=20.6889 dDv_ref=20.6889\n",
      "[INFO S ] | | |  [step] an0=0.92218 an1=0.97406 anh0=0.896241 anh1=0.94812 dDv=19.6843 dDv_ref=19.6843\n",
      "[INFO S ] | | |  [step] an0=0.97406 an1=1 anh0=0.94812 anh1=1 dDv=18.6848 dDv_ref=18.6848\n",
      "np.std(ic) =  1.000789446149472\n",
      "Step 0.040225563909774435 / 0  (Np=2097152)\n",
      "Step 0.09210526315789475 / 1  (Np=2097152)\n",
      "Step 0.14398496240601505 / 2  (Np=2097152)\n",
      "Step 0.19586466165413535 / 3  (Np=2097152)\n",
      "Step 0.24774436090225566 / 4  (Np=2097152)\n",
      "Step 0.29962406015037596 / 5  (Np=2097152)\n",
      "Step 0.35150375939849626 / 6  (Np=2097152)\n",
      "Step 0.40338345864661657 / 7  (Np=2097152)\n",
      "Step 0.45526315789473687 / 8  (Np=2097152)\n",
      "Step 0.5071428571428571 / 9  (Np=2097152)\n",
      "Step 0.5590225563909774 / 10  (Np=2097152)\n",
      "Step 0.6109022556390977 / 11  (Np=2097152)\n",
      "Step 0.662781954887218 / 12  (Np=2097152)\n",
      "Step 0.7146616541353383 / 13  (Np=2097152)\n",
      "Step 0.7665413533834586 / 14  (Np=2097152)\n",
      "Step 0.8184210526315789 / 15  (Np=2097152)\n",
      "Step 0.8703007518796992 / 16  (Np=2097152)\n",
      "Step 0.9221804511278195 / 17  (Np=2097152)\n",
      "Step 0.9740601503759398 / 18  (Np=2097152)\n"
     ]
    },
    {
     "ename": "RuntimeError",
     "evalue": "Tried to call pure virtual function \"BaseForwardModel::forwardModel_v2_impl\"",
     "output_type": "error",
     "traceback": [
      "\u001B[0;31m---------------------------------------------------------------------------\u001B[0m",
      "\u001B[0;31mRuntimeError\u001B[0m                              Traceback (most recent call last)",
      "Input \u001B[0;32mIn [8]\u001B[0m, in \u001B[0;36m<cell line: 56>\u001B[0;34m()\u001B[0m\n\u001B[1;32m     53\u001B[0m delta_m \u001B[38;5;241m=\u001B[39m np\u001B[38;5;241m.\u001B[39mzeros((Nt,Nt,Nt))\n\u001B[1;32m     55\u001B[0m \u001B[38;5;66;03m# RUN!\u001B[39;00m\n\u001B[0;32m---> 56\u001B[0m \u001B[43mchain\u001B[49m\u001B[38;5;241;43m.\u001B[39;49m\u001B[43mforwardModel_v2\u001B[49m\u001B[43m(\u001B[49m\u001B[43mic\u001B[49m\u001B[43m)\u001B[49m\n\u001B[1;32m     57\u001B[0m chain\u001B[38;5;241m.\u001B[39mgetDensityFinal(delta_m)\n\u001B[1;32m     59\u001B[0m \u001B[38;5;66;03m# Get pos\u001B[39;00m\n",
      "\u001B[0;31mRuntimeError\u001B[0m: Tried to call pure virtual function \"BaseForwardModel::forwardModel_v2_impl\""
     ]
    }
   ],
   "source": [
    "global step_id\n",
    "chain = 0\n",
    "\n",
    "# setup the box\n",
    "bb = borg.forward.BoxModel()\n",
    "\n",
    "L = 250\n",
    "Nt = 128\n",
    "\n",
    "bb.L = L,L,L\n",
    "bb.N = Nt,Nt,Nt\n",
    "\n",
    "# Initialize some default cosmology\n",
    "cosmo = borg.cosmo.CosmologicalParameters()\n",
    "\n",
    "# Fiducial scale factor to express initial conditions\n",
    "z_start = 69\n",
    "a0 = 0.001\n",
    "nsteps = 20\n",
    "\n",
    "chain = borg.forward.ChainForwardModel(bb)\n",
    "# Add primordial fluctuations\n",
    "chain.addModel(borg.forward.models.Primordial(bb, a0))\n",
    "# Add E&Hu transfer function\n",
    "chain.addModel(borg.forward.models.EisensteinHu(bb))\n",
    "# Run an LPT model from a=0.0 to af. The ai=a0 is the scale factor at which the IC are expressed\n",
    "#lpt = borg.forward.models.BorgLpt(bb, bb, ai=a0, af=1.0)\n",
    "lpt = borg.forward.models.BorgPM(bb, bb, ai=a0, af=1.0, z_start=z_start, particle_factor=1, force_factor=2, supersampling=1, nsteps=nsteps, tCOLA = 1)\n",
    "chain.addModel(lpt)\n",
    "\n",
    "genet = Genet(bb)\n",
    "chain.addModel(genet)\n",
    "\n",
    "pos_array = np.zeros((nsteps,Nt**3,3))\n",
    "step_id=0\n",
    "def notif(t, Np, ids, poss, vels):\n",
    "    global step_id\n",
    "    print(f\"Step {t} / {step_id}  (Np={Np})\")\n",
    "    pos_array[step_id,:,:] = poss\n",
    "    step_id+=1\n",
    "\n",
    "lpt.setStepNotifier(notif, with_particles=True)\n",
    "\n",
    "# Set the cosmology\n",
    "chain.setCosmoParams(cosmo)\n",
    "\n",
    "# Generate white noise: it has to be scaled by 1/N**(3./2) to be one in Fourier\n",
    "np.random.seed(42)\n",
    "s_field = np.random.normal(0,1,(Nt,Nt,Nt))\n",
    "ic = np.fft.rfftn(s_field/np.sqrt(Nt**3))\n",
    "print('np.std(ic) = ',np.std(ic))\n",
    "#ic = np.fft.rfftn(np.random.randn(Ng, Ng, Ng)/np.sqrt(Ng**3))\n",
    "delta_m = np.zeros((Nt,Nt,Nt))\n",
    "\n",
    "# RUN!\n",
    "chain.forwardModel_v2(ic)\n",
    "chain.getDensityFinal(delta_m)\n",
    "\n",
    "# Get pos\n",
    "abs_pos_COLA = np.zeros((lpt.getNumberOfParticles(),3))\n",
    "lpt.getParticlePositions(abs_pos_COLA)"
   ],
   "metadata": {
    "collapsed": false,
    "pycharm": {
     "name": "#%%\n"
    }
   }
  }
 ],
 "metadata": {
  "kernelspec": {
   "display_name": "Python 3",
   "language": "python",
   "name": "python3"
  },
  "language_info": {
   "codemirror_mode": {
    "name": "ipython",
    "version": 2
   },
   "file_extension": ".py",
   "mimetype": "text/x-python",
   "name": "python",
   "nbconvert_exporter": "python",
   "pygments_lexer": "ipython2",
   "version": "2.7.6"
  }
 },
 "nbformat": 4,
 "nbformat_minor": 0
}