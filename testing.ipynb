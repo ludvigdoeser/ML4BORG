{
 "cells": [
  {
   "cell_type": "code",
   "execution_count": 1,
   "id": "026e8d5b",
   "metadata": {},
   "outputs": [],
   "source": [
    "def pre_process(path,L,N):\n",
    "    \n",
    "    # Load catalog\n",
    "    catalog = Gadget1Catalog(path)\n",
    "    \n",
    "    # Absolute final positions \n",
    "    abs_pos = np.array(cata['Position'])\n",
    "    \n",
    "    # Memory layout of multi-dimensional arrays (row vs column major)\n",
    "    psi = np.zeros(np.shape(abs_pos))\n",
    "    x_q_v = np.zeros(np.shape(abs_pos))\n",
    "    dx = L/Ng\n",
    "    \n",
    "    start = timeit.default_timer()\n",
    "\n",
    "    for i in range(0,Ng):\n",
    "        for j in range(0,Ng):\n",
    "            for k in range(0,Ng):\n",
    "                n = k + Ng*(j + Ng*i)\n",
    "                #n = i + Ng*(j + Ng*k)\n",
    "\n",
    "                qx = i*dx\n",
    "                qy = j*dx\n",
    "                qz = k*dx\n",
    "\n",
    "                x_q_v[n] = [qx,qy,qz]\n",
    "\n",
    "                psi[n] = abs_pos[n] - [qx,qy,qz]\n",
    "    \n",
    "                timer(i+j+k,Ng**3,start,clear=True)\n",
    "    \n",
    "    return psi"
   ]
  },
  {
   "cell_type": "code",
   "execution_count": 3,
   "id": "1a3ae700",
   "metadata": {},
   "outputs": [],
   "source": [
    "def timer(i,nr,start,clear=True):\n",
    "    \"\"\"\n",
    "    Print out the loop progress, and try to estimate the time remaining.\n",
    "    \n",
    "    **Parameters**:\n",
    "    \n",
    "    `i, nr`: ints      \n",
    "        The current loop number, and the total number of loops.\n",
    "    \n",
    "    `start`: float      \n",
    "        Start of the loop, as given by: timeit.default_timer(). \n",
    "    \n",
    "    `clear`: boolean      \n",
    "        Clear the output between loops. \n",
    "    \"\"\"\n",
    "    \n",
    "    stop=timeit.default_timer()\n",
    "    if (i/nr*100) < 10:\n",
    "        expected_time=\"Calculating...\"\n",
    "    else:\n",
    "        time_perc=timeit.default_timer()\n",
    "        expected_time=np.round(((time_perc-start)/(i/nr))/60,2)\n",
    "    if clear == True:\n",
    "        clear_output(wait=True)"
   ]
  },
  {
   "cell_type": "code",
   "execution_count": 2,
   "id": "8ec848d0",
   "metadata": {},
   "outputs": [],
   "source": [
    "import torch\n",
    "import torch.nn as nn\n",
    "import numpy as np\n",
    "from nbodykit.lab import *\n",
    "import matplotlib.pyplot as plt\n",
    "from mpl_toolkits.axes_grid1 import make_axes_locatable\n",
    "import matplotlib.colors as colors\n",
    "import matplotlib.pyplot as plt\n",
    "\n",
    "def standard_plot(w=10,h=4,fontsize=14):\n",
    "    fig = plt.figure(figsize=(w,h))\n",
    "    plt.rcParams.update(plt.rcParamsDefault)\n",
    "    plt.rcParams.update({'font.size': fontsize})\n",
    "    plt.rcParams['font.family'] = 'DejaVu Sans'\n",
    "    #plt.rc('text', usetex=True)\n",
    "    return plt.gca()"
   ]
  },
  {
   "cell_type": "code",
   "execution_count": null,
   "id": "6e30963a",
   "metadata": {},
   "outputs": [],
   "source": [
    "## Load Data\n",
    "cola_path7200 = '/cfs/data/stst5617/borg-antihalos/new_chain/sample7200/cola_forward_20/snap_cola_borg_z0'\n",
    "gadget_path7200 = '/cfs/data/stst5617/borg-antihalos/new_chain/sample7200/gadget_full_forward_512/snapshot_001'\n",
    "\n",
    "## Param\n",
    "L = 677.7\n",
    "N = 512\n",
    "\n",
    "# Get the disp \n",
    "cola_disp = pre_process(cola_path7200,L,N)\n",
    "gadget_disp = pre_process(gadget_path7200,L,N)"
   ]
  },
  {
   "cell_type": "code",
   "execution_count": null,
   "id": "cac3de33",
   "metadata": {},
   "outputs": [],
   "source": []
  }
 ],
 "metadata": {
  "kernelspec": {
   "display_name": "Python 3 (ipykernel)",
   "language": "python",
   "name": "python3"
  },
  "language_info": {
   "codemirror_mode": {
    "name": "ipython",
    "version": 3
   },
   "file_extension": ".py",
   "mimetype": "text/x-python",
   "name": "python",
   "nbconvert_exporter": "python",
   "pygments_lexer": "ipython3",
   "version": "3.7.12"
  }
 },
 "nbformat": 4,
 "nbformat_minor": 5
}
