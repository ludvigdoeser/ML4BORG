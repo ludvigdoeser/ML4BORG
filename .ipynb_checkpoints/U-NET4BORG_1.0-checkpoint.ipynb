{
 "cells": [
  {
   "cell_type": "code",
   "execution_count": null,
   "metadata": {
    "tags": []
   },
   "outputs": [],
   "source": [
    "%matplotlib inline \n",
    "%config InlineBackend.figure_format='retina'\n",
    "%pylab inline\n",
    "\n",
    "import h5py\n",
    "import numpy as np\n",
    "import pandas as pd\n",
    "import struct\n",
    "\n",
    "import tensorflow as tf\n",
    "from tensorflow.keras import datasets, layers, models, Model, Input\n",
    "from tensorflow.keras.layers import*\n",
    "import tensorflow.keras as keras\n",
    "\n",
    "from nbodykit.lab import *\n",
    "from nbodykit import setup_logging, style\n",
    "from nbodykit.lab import ArrayMesh"
   ]
  },
  {
   "cell_type": "markdown",
   "metadata": {},
   "source": [
    "# Dataloder"
   ]
  },
  {
   "cell_type": "markdown",
   "metadata": {},
   "source": [
    "## Data Preparation "
   ]
  },
  {
   "cell_type": "code",
   "execution_count": null,
   "metadata": {},
   "outputs": [],
   "source": [
    "###need to modify this for the training set\n",
    "def random_select(DPF_COLA,DPF_GADGET,size=50): #for momentum\n",
    "    #augmentation and such \n",
    "    \"\"\"\n",
    "    This function randomly select a subbox from a full volume simulation \n",
    "    return a cropped Displacement field with a size^3 volume\n",
    "    \"\"\"\n",
    "    #random the rollling coordinate\n",
    "    rnd=np.random.uniform(0,1024-size,size=3).astype(int)\n",
    "    DPF_COLA_cropped   = DPF_COLA  [rnd[0]:rnd[0]+size,rnd[1]:rnd[1]+size,rnd[2]:rnd[2]+size]\n",
    "    DPF_GADGET_cropped = DPF_GADGET[rnd[0]:rnd[0]+size,rnd[1]:rnd[1]+size,rnd[2]:rnd[2]+size]\n",
    "    \n",
    "    return DPF_COLA_cropped , DPF_GADGET_cropped\n",
    "\n",
    "def generator():\n",
    "    \"\"\"\n",
    "    This function apply the data random_select (can be modified) \n",
    "    and batched the dataset on the fily\n",
    "    \"\"\"\n",
    "    \n",
    "    na=np.newaxis\n",
    "    for i in range (5120):\n",
    "\n",
    "        DM_cropped,fields_cropped = random_select(DPF_COLA,DPF_GADGET,size=32)\n",
    "        #yield (DM_cropped[:,:,:,na],fields_cropped)\n",
    "        yield (DM_cropped,fields_cropped)\n",
    "        \n",
    "dataset = tf.data.Dataset.from_generator(generator, (tf.float32, tf.float32))\n",
    "dataset = dataset.cache().batch(64)\n",
    "width, height, depth = 32, 32, 32"
   ]
  },
  {
   "cell_type": "code",
   "execution_count": 21,
   "metadata": {
    "collapsed": true,
    "jupyter": {
     "outputs_hidden": true
    },
    "tags": []
   },
   "outputs": [
    {
     "name": "stdout",
     "output_type": "stream",
     "text": [
      "(128, 81, 81, 81, 1)\n",
      "(128, 27, 27, 27)\n",
      "(128, 81, 81, 81, 1)\n",
      "(128, 27, 27, 27)\n",
      "(128, 81, 81, 81, 1)\n",
      "(128, 27, 27, 27)\n",
      "(128, 81, 81, 81, 1)\n",
      "(128, 27, 27, 27)\n",
      "(128, 81, 81, 81, 1)\n",
      "(128, 27, 27, 27)\n",
      "(128, 81, 81, 81, 1)\n",
      "(128, 27, 27, 27)\n",
      "(128, 81, 81, 81, 1)\n",
      "(128, 27, 27, 27)\n",
      "(128, 81, 81, 81, 1)\n",
      "(128, 27, 27, 27)\n",
      "(128, 81, 81, 81, 1)\n",
      "(128, 27, 27, 27)\n"
     ]
    },
    {
     "ename": "KeyboardInterrupt",
     "evalue": "",
     "output_type": "error",
     "traceback": [
      "\u001b[0;31m---------------------------------------------------------------------------\u001b[0m",
      "\u001b[0;31mKeyboardInterrupt\u001b[0m                         Traceback (most recent call last)",
      "\u001b[0;32m<timed exec>\u001b[0m in \u001b[0;36m<module>\u001b[0;34m\u001b[0m\n",
      "\u001b[0;32m/softs/python/py3mods/tensorflow/2.2.0/tensorflow/python/data/ops/iterator_ops.py\u001b[0m in \u001b[0;36m__next__\u001b[0;34m(self)\u001b[0m\n\u001b[1;32m    629\u001b[0m \u001b[0;34m\u001b[0m\u001b[0m\n\u001b[1;32m    630\u001b[0m   \u001b[0;32mdef\u001b[0m \u001b[0m__next__\u001b[0m\u001b[0;34m(\u001b[0m\u001b[0mself\u001b[0m\u001b[0;34m)\u001b[0m\u001b[0;34m:\u001b[0m  \u001b[0;31m# For Python 3 compatibility\u001b[0m\u001b[0;34m\u001b[0m\u001b[0m\n\u001b[0;32m--> 631\u001b[0;31m     \u001b[0;32mreturn\u001b[0m \u001b[0mself\u001b[0m\u001b[0;34m.\u001b[0m\u001b[0mnext\u001b[0m\u001b[0;34m(\u001b[0m\u001b[0;34m)\u001b[0m\u001b[0;34m\u001b[0m\u001b[0m\n\u001b[0m\u001b[1;32m    632\u001b[0m \u001b[0;34m\u001b[0m\u001b[0m\n\u001b[1;32m    633\u001b[0m   \u001b[0;32mdef\u001b[0m \u001b[0m_next_internal\u001b[0m\u001b[0;34m(\u001b[0m\u001b[0mself\u001b[0m\u001b[0;34m)\u001b[0m\u001b[0;34m:\u001b[0m\u001b[0;34m\u001b[0m\u001b[0m\n",
      "\u001b[0;32m/softs/python/py3mods/tensorflow/2.2.0/tensorflow/python/data/ops/iterator_ops.py\u001b[0m in \u001b[0;36mnext\u001b[0;34m(self)\u001b[0m\n\u001b[1;32m    668\u001b[0m     \u001b[0;34m\"\"\"Returns a nested structure of `Tensor`s containing the next element.\"\"\"\u001b[0m\u001b[0;34m\u001b[0m\u001b[0m\n\u001b[1;32m    669\u001b[0m     \u001b[0;32mtry\u001b[0m\u001b[0;34m:\u001b[0m\u001b[0;34m\u001b[0m\u001b[0m\n\u001b[0;32m--> 670\u001b[0;31m       \u001b[0;32mreturn\u001b[0m \u001b[0mself\u001b[0m\u001b[0;34m.\u001b[0m\u001b[0m_next_internal\u001b[0m\u001b[0;34m(\u001b[0m\u001b[0;34m)\u001b[0m\u001b[0;34m\u001b[0m\u001b[0m\n\u001b[0m\u001b[1;32m    671\u001b[0m     \u001b[0;32mexcept\u001b[0m \u001b[0merrors\u001b[0m\u001b[0;34m.\u001b[0m\u001b[0mOutOfRangeError\u001b[0m\u001b[0;34m:\u001b[0m\u001b[0;34m\u001b[0m\u001b[0m\n\u001b[1;32m    672\u001b[0m       \u001b[0;32mraise\u001b[0m \u001b[0mStopIteration\u001b[0m\u001b[0;34m\u001b[0m\u001b[0m\n",
      "\u001b[0;32m/softs/python/py3mods/tensorflow/2.2.0/tensorflow/python/data/ops/iterator_ops.py\u001b[0m in \u001b[0;36m_next_internal\u001b[0;34m(self)\u001b[0m\n\u001b[1;32m    653\u001b[0m             \u001b[0mself\u001b[0m\u001b[0;34m.\u001b[0m\u001b[0m_iterator_resource\u001b[0m\u001b[0;34m,\u001b[0m\u001b[0;34m\u001b[0m\u001b[0m\n\u001b[1;32m    654\u001b[0m             \u001b[0moutput_types\u001b[0m\u001b[0;34m=\u001b[0m\u001b[0mself\u001b[0m\u001b[0;34m.\u001b[0m\u001b[0m_flat_output_types\u001b[0m\u001b[0;34m,\u001b[0m\u001b[0;34m\u001b[0m\u001b[0m\n\u001b[0;32m--> 655\u001b[0;31m             output_shapes=self._flat_output_shapes)\n\u001b[0m\u001b[1;32m    656\u001b[0m \u001b[0;34m\u001b[0m\u001b[0m\n\u001b[1;32m    657\u001b[0m       \u001b[0;32mtry\u001b[0m\u001b[0;34m:\u001b[0m\u001b[0;34m\u001b[0m\u001b[0m\n",
      "\u001b[0;32m/softs/python/py3mods/tensorflow/2.2.0/tensorflow/python/ops/gen_dataset_ops.py\u001b[0m in \u001b[0;36miterator_get_next\u001b[0;34m(iterator, output_types, output_shapes, name)\u001b[0m\n\u001b[1;32m   2351\u001b[0m         \u001b[0m_ctx\u001b[0m\u001b[0;34m.\u001b[0m\u001b[0m_context_handle\u001b[0m\u001b[0;34m,\u001b[0m \u001b[0mtld\u001b[0m\u001b[0;34m.\u001b[0m\u001b[0mdevice_name\u001b[0m\u001b[0;34m,\u001b[0m \u001b[0;34m\"IteratorGetNext\"\u001b[0m\u001b[0;34m,\u001b[0m \u001b[0mname\u001b[0m\u001b[0;34m,\u001b[0m\u001b[0;34m\u001b[0m\u001b[0m\n\u001b[1;32m   2352\u001b[0m         \u001b[0mtld\u001b[0m\u001b[0;34m.\u001b[0m\u001b[0mop_callbacks\u001b[0m\u001b[0;34m,\u001b[0m \u001b[0miterator\u001b[0m\u001b[0;34m,\u001b[0m \u001b[0;34m\"output_types\"\u001b[0m\u001b[0;34m,\u001b[0m \u001b[0moutput_types\u001b[0m\u001b[0;34m,\u001b[0m\u001b[0;34m\u001b[0m\u001b[0m\n\u001b[0;32m-> 2353\u001b[0;31m         \"output_shapes\", output_shapes)\n\u001b[0m\u001b[1;32m   2354\u001b[0m       \u001b[0;32mreturn\u001b[0m \u001b[0m_result\u001b[0m\u001b[0;34m\u001b[0m\u001b[0m\n\u001b[1;32m   2355\u001b[0m     \u001b[0;32mexcept\u001b[0m \u001b[0m_core\u001b[0m\u001b[0;34m.\u001b[0m\u001b[0m_FallbackException\u001b[0m\u001b[0;34m:\u001b[0m\u001b[0;34m\u001b[0m\u001b[0m\n",
      "\u001b[0;31mKeyboardInterrupt\u001b[0m: "
     ]
    }
   ],
   "source": [
    "#sanity check\n",
    "for i in dataset:\n",
    "    print(i[0].shape)\n",
    "    print(i[1].shape)"
   ]
  },
  {
   "cell_type": "markdown",
   "metadata": {},
   "source": [
    "# Architecture"
   ]
  },
  {
   "cell_type": "markdown",
   "metadata": {},
   "source": [
    "## U-net 3D"
   ]
  },
  {
   "cell_type": "code",
   "execution_count": null,
   "metadata": {},
   "outputs": [],
   "source": [
    "#this one bottleneck down to 8^3\n",
    "def U_net_3d_1(width, height, depth,lr=0.001,input_ch=1):\n",
    "    tf.keras.backend.clear_session()\n",
    "    width, height, depth = 32, 32, 32\n",
    "    \n",
    "    in1 = keras.Input((width, height, depth, input_ch))\n",
    "\n",
    "    conv1 = Conv3D(filters=16, kernel_size=2, activation='relu', kernel_initializer='he_normal', padding='same')(in1)\n",
    "    conv1 = Dropout(0.2)(conv1)\n",
    "    conv1 = Conv3D(filters=16, kernel_size=2, activation='relu', kernel_initializer='he_normal', padding='same')(conv1)\n",
    "    pool1 = MaxPooling3D((2, 2, 2))(conv1)\n",
    "\n",
    "    conv2 = Conv3D(filters=16, kernel_size=2, activation='relu', kernel_initializer='he_normal', padding='same')(pool1)\n",
    "    conv2 = Dropout(0.2)(conv2)\n",
    "    conv2 = Conv3D(filters=16, kernel_size=2, activation='relu', kernel_initializer='he_normal', padding='same')(conv2)\n",
    "    pool2 = MaxPooling3D((2, 2, 2))(conv2)\n",
    "\n",
    "    conv3 = Conv3D(filters=16, kernel_size=2, activation='relu', kernel_initializer='he_normal', padding='same')(pool2)\n",
    "    conv3 = Dropout(0.2)(conv3)\n",
    "    conv3 = Conv3D(filters=16, kernel_size=2, activation='relu', kernel_initializer='he_normal', padding='same')(conv3)\n",
    "\n",
    "    ########################################################\n",
    "    up1 = concatenate([UpSampling3D((2, 2, 2))(conv3), conv2], axis=-1)\n",
    "    conv4 = Conv3D(filters=16, kernel_size=2, activation='relu', kernel_initializer='he_normal', padding='same')(up1)\n",
    "    conv4 = Dropout(0.2)(conv4)\n",
    "    conv4 = Conv3D(filters=16, kernel_size=2, activation='relu', kernel_initializer='he_normal', padding='same')(conv4)\n",
    "\n",
    "    up2 = concatenate([UpSampling3D((2, 2, 2))(conv4), conv1], axis=-1)\n",
    "    conv6 = Conv3D(filters=16, kernel_size=2, activation='relu', kernel_initializer='he_normal', padding='same')(up2)\n",
    "    conv6 = Dropout(0.2)(conv6)\n",
    "    conv6 = Conv3D(filters=16, kernel_size=2, activation='relu', kernel_initializer='he_normal', padding='same')(conv6)\n",
    "    ########################################################\n",
    "\n",
    "    model = Model(inputs=[in1], outputs=[conv6],name='U-net3D')\n",
    "    model.summary()\n",
    "\n",
    "\n",
    "\n",
    "    \n",
    "    model.compile(optimizer=tf.keras.optimizers.Adam(learning_rate=lr), loss=tf.keras.losses.MeanSquaredError(),metrics=[tf.keras.metrics.MeanSquaredError()])\n",
    "    return model"
   ]
  },
  {
   "cell_type": "code",
   "execution_count": 10,
   "metadata": {
    "scrolled": true
   },
   "outputs": [],
   "source": [
    "#this one bottleneck down to 4^3\n",
    "def U_net_3d_2(width, height, depth,lr=0.001,input_ch=1):\n",
    "    tf.keras.backend.clear_session()\n",
    "\n",
    "    input_ch = 3\n",
    "    in1 = keras.Input((width, height, depth, input_ch))\n",
    "\n",
    "    conv1 = Conv3D(filters=16, kernel_size=2, activation='relu', kernel_initializer='he_normal', padding='same')(in1)\n",
    "    conv1 = Dropout(0.2)(conv1)\n",
    "    conv1 = Conv3D(filters=16, kernel_size=2, activation='relu', kernel_initializer='he_normal', padding='same')(conv1)\n",
    "    pool1 = MaxPooling3D((2, 2, 2))(conv1)\n",
    "\n",
    "    conv2 = Conv3D(filters=16, kernel_size=2, activation='relu', kernel_initializer='he_normal', padding='same')(pool1)\n",
    "    conv2 = Dropout(0.2)(conv2)\n",
    "    conv2 = Conv3D(filters=16, kernel_size=2, activation='relu', kernel_initializer='he_normal', padding='same')(conv2)\n",
    "    pool2 = MaxPooling3D((2, 2, 2))(conv2)\n",
    "\n",
    "    conv3 = Conv3D(filters=16, kernel_size=2, activation='relu', kernel_initializer='he_normal', padding='same')(pool2)\n",
    "    conv3 = Dropout(0.2)(conv3)\n",
    "    conv3 = Conv3D(filters=16, kernel_size=2, activation='relu', kernel_initializer='he_normal', padding='same')(conv3)\n",
    "    pool3 = MaxPooling3D((2, 2, 2))(conv3)\n",
    "\n",
    "    conv4 = Conv3D(filters=16, kernel_size=2, activation='relu', kernel_initializer='he_normal', padding='same')(pool3)\n",
    "    conv4 = Dropout(0.2)(conv4)\n",
    "    conv4 = Conv3D(filters=16, kernel_size=2, activation='relu', kernel_initializer='he_normal', padding='same')(conv4)\n",
    "\n",
    "    ########################################################\n",
    "    up1 = concatenate([UpSampling3D((2, 2, 2))(conv4), conv3], axis=-1)\n",
    "    conv5 = Conv3D(filters=16, kernel_size=2, activation='relu', kernel_initializer='he_normal', padding='same')(up1)\n",
    "    conv5 = Dropout(0.2)(conv5)\n",
    "    conv5 = Conv3D(filters=16, kernel_size=2, activation='relu', kernel_initializer='he_normal', padding='same')(conv5)\n",
    "\n",
    "    up2 = concatenate([UpSampling3D((2, 2, 2))(conv5), conv2], axis=-1)\n",
    "    conv6 = Conv3D(filters=16, kernel_size=2, activation='relu', kernel_initializer='he_normal', padding='same')(up2)\n",
    "    #conv6 = Dropout(0.2)(conv6)\n",
    "    conv6 = Conv3D(filters=16, kernel_size=2, activation='relu', kernel_initializer='he_normal', padding='same')(conv6)\n",
    "\n",
    "    up3 = concatenate([UpSampling3D((2, 2, 2))(conv6), conv1], axis=-1)\n",
    "    conv7 = Conv3D(filters=16, kernel_size=(2, 2, 2), activation='relu', kernel_initializer='he_normal', padding='same')(up3)\n",
    "    #conv7 = Dropout(0.2)(conv7)\n",
    "    conv7 = Conv3D(filters=16, kernel_size=(2, 2, 2), activation='relu', kernel_initializer='he_normal', padding='same')(conv7)\n",
    "    conv7 = Conv3D(filters=1, kernel_size=(2,2,2), kernel_initializer='he_normal', padding='same')(conv7)\n",
    "    ########################################################\n",
    "    \n",
    "    model = Model(inputs=[in1], outputs=[conv7],name='U-net3D')\n",
    "    model.summary()\n",
    "\n",
    "    model.compile(optimizer=tf.keras.optimizers.Adam(learning_rate=lr), loss=tf.keras.losses.MeanSquaredError(),metrics=[tf.keras.metrics.MeanSquaredError()])\n",
    "    return model"
   ]
  },
  {
   "cell_type": "markdown",
   "metadata": {},
   "source": [
    "# Training"
   ]
  },
  {
   "cell_type": "code",
   "execution_count": 17,
   "metadata": {
    "collapsed": true,
    "jupyter": {
     "outputs_hidden": true
    },
    "tags": []
   },
   "outputs": [
    {
     "name": "stdout",
     "output_type": "stream",
     "text": [
      "Model: \"U-net3D\"\n",
      "__________________________________________________________________________________________________\n",
      "Layer (type)                    Output Shape         Param #     Connected to                     \n",
      "==================================================================================================\n",
      "input_1 (InputLayer)            [(None, 81, 81, 81,  0                                            \n",
      "__________________________________________________________________________________________________\n",
      "conv3d (Conv3D)                 (None, 81, 81, 81, 1 448         input_1[0][0]                    \n",
      "__________________________________________________________________________________________________\n",
      "dropout (Dropout)               (None, 81, 81, 81, 1 0           conv3d[0][0]                     \n",
      "__________________________________________________________________________________________________\n",
      "conv3d_1 (Conv3D)               (None, 81, 81, 81, 1 6928        dropout[0][0]                    \n",
      "__________________________________________________________________________________________________\n",
      "max_pooling3d (MaxPooling3D)    (None, 27, 27, 27, 1 0           conv3d_1[0][0]                   \n",
      "__________________________________________________________________________________________________\n",
      "conv3d_2 (Conv3D)               (None, 27, 27, 27, 1 6928        max_pooling3d[0][0]              \n",
      "__________________________________________________________________________________________________\n",
      "dropout_1 (Dropout)             (None, 27, 27, 27, 1 0           conv3d_2[0][0]                   \n",
      "__________________________________________________________________________________________________\n",
      "conv3d_3 (Conv3D)               (None, 27, 27, 27, 1 6928        dropout_1[0][0]                  \n",
      "__________________________________________________________________________________________________\n",
      "max_pooling3d_1 (MaxPooling3D)  (None, 9, 9, 9, 16)  0           conv3d_3[0][0]                   \n",
      "__________________________________________________________________________________________________\n",
      "conv3d_4 (Conv3D)               (None, 9, 9, 9, 16)  6928        max_pooling3d_1[0][0]            \n",
      "__________________________________________________________________________________________________\n",
      "dropout_2 (Dropout)             (None, 9, 9, 9, 16)  0           conv3d_4[0][0]                   \n",
      "__________________________________________________________________________________________________\n",
      "conv3d_5 (Conv3D)               (None, 9, 9, 9, 16)  6928        dropout_2[0][0]                  \n",
      "__________________________________________________________________________________________________\n",
      "max_pooling3d_2 (MaxPooling3D)  (None, 3, 3, 3, 16)  0           conv3d_5[0][0]                   \n",
      "__________________________________________________________________________________________________\n",
      "conv3d_6 (Conv3D)               (None, 3, 3, 3, 16)  6928        max_pooling3d_2[0][0]            \n",
      "__________________________________________________________________________________________________\n",
      "dropout_3 (Dropout)             (None, 3, 3, 3, 16)  0           conv3d_6[0][0]                   \n",
      "__________________________________________________________________________________________________\n",
      "conv3d_7 (Conv3D)               (None, 3, 3, 3, 16)  6928        dropout_3[0][0]                  \n",
      "__________________________________________________________________________________________________\n",
      "up_sampling3d (UpSampling3D)    (None, 9, 9, 9, 16)  0           conv3d_7[0][0]                   \n",
      "__________________________________________________________________________________________________\n",
      "concatenate (Concatenate)       (None, 9, 9, 9, 32)  0           up_sampling3d[0][0]              \n",
      "                                                                 conv3d_5[0][0]                   \n",
      "__________________________________________________________________________________________________\n",
      "conv3d_8 (Conv3D)               (None, 9, 9, 9, 16)  13840       concatenate[0][0]                \n",
      "__________________________________________________________________________________________________\n",
      "dropout_4 (Dropout)             (None, 9, 9, 9, 16)  0           conv3d_8[0][0]                   \n",
      "__________________________________________________________________________________________________\n",
      "conv3d_9 (Conv3D)               (None, 9, 9, 9, 16)  6928        dropout_4[0][0]                  \n",
      "__________________________________________________________________________________________________\n",
      "up_sampling3d_1 (UpSampling3D)  (None, 27, 27, 27, 1 0           conv3d_9[0][0]                   \n",
      "__________________________________________________________________________________________________\n",
      "concatenate_1 (Concatenate)     (None, 27, 27, 27, 3 0           up_sampling3d_1[0][0]            \n",
      "                                                                 conv3d_3[0][0]                   \n",
      "__________________________________________________________________________________________________\n",
      "conv3d_10 (Conv3D)              (None, 27, 27, 27, 1 13840       concatenate_1[0][0]              \n",
      "__________________________________________________________________________________________________\n",
      "conv3d_11 (Conv3D)              (None, 27, 27, 27, 1 6928        conv3d_10[0][0]                  \n",
      "__________________________________________________________________________________________________\n",
      "up_sampling3d_2 (UpSampling3D)  (None, 81, 81, 81, 1 0           conv3d_11[0][0]                  \n",
      "__________________________________________________________________________________________________\n",
      "concatenate_2 (Concatenate)     (None, 81, 81, 81, 3 0           up_sampling3d_2[0][0]            \n",
      "                                                                 conv3d_1[0][0]                   \n",
      "__________________________________________________________________________________________________\n",
      "conv3d_12 (Conv3D)              (None, 81, 81, 81, 1 13840       concatenate_2[0][0]              \n",
      "__________________________________________________________________________________________________\n",
      "conv3d_13 (Conv3D)              (None, 81, 81, 81, 1 6928        conv3d_12[0][0]                  \n",
      "__________________________________________________________________________________________________\n",
      "conv3d_14 (Conv3D)              (None, 81, 81, 81, 1 433         conv3d_13[0][0]                  \n",
      "__________________________________________________________________________________________________\n",
      "tf.__operators__.getitem (Slici (None, 27, 27, 27, 1 0           conv3d_14[0][0]                  \n",
      "==================================================================================================\n",
      "Total params: 111,681\n",
      "Trainable params: 111,681\n",
      "Non-trainable params: 0\n",
      "__________________________________________________________________________________________________\n"
     ]
    },
    {
     "ename": "NameError",
     "evalue": "name 'run_1' is not defined",
     "output_type": "error",
     "traceback": [
      "\u001b[0;31m---------------------------------------------------------------------------\u001b[0m",
      "\u001b[0;31mNameError\u001b[0m                                 Traceback (most recent call last)",
      "\u001b[0;32m<timed exec>\u001b[0m in \u001b[0;36m<module>\u001b[0;34m\u001b[0m\n",
      "\u001b[0;31mNameError\u001b[0m: name 'run_1' is not defined"
     ]
    }
   ],
   "source": [
    "%%time\n",
    "width, height, depth = 81, 81, 81\n",
    "unet3d  = U_net_3d(width,height,depth,lr=0.002,input_ch=3)\n",
    "unet3d.load_weights('model_Unet.h5') \n",
    "\n",
    "run   = unet3d.fit(dataset, epochs=250)#,batch_size=32)#,steps_per_epoch=10)\n",
    "\n",
    "plt.semilogy(run.history['loss'],label='loss')\n",
    "plt.semilogy(run.history['mean_squared_error'],label='mse')\n",
    "plt.legend()"
   ]
  },
  {
   "cell_type": "code",
   "execution_count": 10,
   "metadata": {},
   "outputs": [],
   "source": [
    "unet3d.save_weights('model_UNET4BORG.h5') "
   ]
  },
  {
   "cell_type": "markdown",
   "metadata": {},
   "source": [
    "# Evaluation"
   ]
  }
 ],
 "metadata": {
  "kernelspec": {
   "display_name": "Python 3",
   "language": "python",
   "name": "python3"
  },
  "language_info": {
   "codemirror_mode": {
    "name": "ipython",
    "version": 3
   },
   "file_extension": ".py",
   "mimetype": "text/x-python",
   "name": "python",
   "nbconvert_exporter": "python",
   "pygments_lexer": "ipython3",
   "version": "3.7.7"
  },
  "toc-autonumbering": true,
  "toc-showcode": false,
  "toc-showmarkdowntxt": true,
  "toc-showtags": false
 },
 "nbformat": 4,
 "nbformat_minor": 4
}
